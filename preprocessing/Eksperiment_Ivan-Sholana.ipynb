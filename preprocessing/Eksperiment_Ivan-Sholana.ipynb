{
 "cells": [
  {
   "cell_type": "markdown",
   "id": "ea331e5a",
   "metadata": {},
   "source": [
    "# **1. Perkenalan Dataset**\n",
    "\n",
    "Tahap pertama, Anda harus mencari dan menggunakan dataset dengan ketentuan sebagai berikut:\n",
    "\n",
    "1. **Sumber Dataset**:  \n",
    "   Dataset dapat diperoleh dari berbagai sumber, seperti public repositories (*Kaggle*, *UCI ML Repository*, *Open Data*) atau data primer yang Anda kumpulkan sendiri."
   ]
  },
  {
   "cell_type": "markdown",
   "id": "852d5cfc",
   "metadata": {},
   "source": [
    "# **2. Import Library**"
   ]
  },
  {
   "cell_type": "code",
   "execution_count": 1,
   "id": "6b6bdca5",
   "metadata": {},
   "outputs": [],
   "source": [
    "import pandas as pd\n",
    "import numpy as np\n",
    "import matplotlib.pyplot as plt\n",
    "import seaborn as sns\n",
    "from sklearn.experimental import enable_iterative_imputer\n",
    "from sklearn.impute import IterativeImputer\n",
    "from sklearn.ensemble import RandomForestRegressor\n",
    "import joblib"
   ]
  },
  {
   "cell_type": "markdown",
   "id": "354153cd",
   "metadata": {},
   "source": [
    "# **3. Memuat Dataset**"
   ]
  },
  {
   "cell_type": "code",
   "execution_count": 2,
   "id": "aa138afb",
   "metadata": {},
   "outputs": [],
   "source": [
    "df = pd.read_csv('../personality_dataset/personality_dataset.csv')"
   ]
  },
  {
   "cell_type": "code",
   "execution_count": 3,
   "id": "08f0b630",
   "metadata": {},
   "outputs": [
    {
     "data": {
      "application/vnd.microsoft.datawrangler.viewer.v0+json": {
       "columns": [
        {
         "name": "index",
         "rawType": "int64",
         "type": "integer"
        },
        {
         "name": "Time_spent_Alone",
         "rawType": "float64",
         "type": "float"
        },
        {
         "name": "Stage_fear",
         "rawType": "object",
         "type": "string"
        },
        {
         "name": "Social_event_attendance",
         "rawType": "float64",
         "type": "float"
        },
        {
         "name": "Going_outside",
         "rawType": "float64",
         "type": "float"
        },
        {
         "name": "Drained_after_socializing",
         "rawType": "object",
         "type": "string"
        },
        {
         "name": "Friends_circle_size",
         "rawType": "float64",
         "type": "float"
        },
        {
         "name": "Post_frequency",
         "rawType": "float64",
         "type": "float"
        },
        {
         "name": "Personality",
         "rawType": "object",
         "type": "string"
        }
       ],
       "ref": "ef99287b-2bb6-4a48-9a0f-1aaf6130f6dc",
       "rows": [
        [
         "0",
         "4.0",
         "No",
         "4.0",
         "6.0",
         "No",
         "13.0",
         "5.0",
         "Extrovert"
        ],
        [
         "1",
         "9.0",
         "Yes",
         "0.0",
         "0.0",
         "Yes",
         "0.0",
         "3.0",
         "Introvert"
        ],
        [
         "2",
         "9.0",
         "Yes",
         "1.0",
         "2.0",
         "Yes",
         "5.0",
         "2.0",
         "Introvert"
        ],
        [
         "3",
         "0.0",
         "No",
         "6.0",
         "7.0",
         "No",
         "14.0",
         "8.0",
         "Extrovert"
        ],
        [
         "4",
         "3.0",
         "No",
         "9.0",
         "4.0",
         "No",
         "8.0",
         "5.0",
         "Extrovert"
        ]
       ],
       "shape": {
        "columns": 8,
        "rows": 5
       }
      },
      "text/html": [
       "<div>\n",
       "<style scoped>\n",
       "    .dataframe tbody tr th:only-of-type {\n",
       "        vertical-align: middle;\n",
       "    }\n",
       "\n",
       "    .dataframe tbody tr th {\n",
       "        vertical-align: top;\n",
       "    }\n",
       "\n",
       "    .dataframe thead th {\n",
       "        text-align: right;\n",
       "    }\n",
       "</style>\n",
       "<table border=\"1\" class=\"dataframe\">\n",
       "  <thead>\n",
       "    <tr style=\"text-align: right;\">\n",
       "      <th></th>\n",
       "      <th>Time_spent_Alone</th>\n",
       "      <th>Stage_fear</th>\n",
       "      <th>Social_event_attendance</th>\n",
       "      <th>Going_outside</th>\n",
       "      <th>Drained_after_socializing</th>\n",
       "      <th>Friends_circle_size</th>\n",
       "      <th>Post_frequency</th>\n",
       "      <th>Personality</th>\n",
       "    </tr>\n",
       "  </thead>\n",
       "  <tbody>\n",
       "    <tr>\n",
       "      <th>0</th>\n",
       "      <td>4.0</td>\n",
       "      <td>No</td>\n",
       "      <td>4.0</td>\n",
       "      <td>6.0</td>\n",
       "      <td>No</td>\n",
       "      <td>13.0</td>\n",
       "      <td>5.0</td>\n",
       "      <td>Extrovert</td>\n",
       "    </tr>\n",
       "    <tr>\n",
       "      <th>1</th>\n",
       "      <td>9.0</td>\n",
       "      <td>Yes</td>\n",
       "      <td>0.0</td>\n",
       "      <td>0.0</td>\n",
       "      <td>Yes</td>\n",
       "      <td>0.0</td>\n",
       "      <td>3.0</td>\n",
       "      <td>Introvert</td>\n",
       "    </tr>\n",
       "    <tr>\n",
       "      <th>2</th>\n",
       "      <td>9.0</td>\n",
       "      <td>Yes</td>\n",
       "      <td>1.0</td>\n",
       "      <td>2.0</td>\n",
       "      <td>Yes</td>\n",
       "      <td>5.0</td>\n",
       "      <td>2.0</td>\n",
       "      <td>Introvert</td>\n",
       "    </tr>\n",
       "    <tr>\n",
       "      <th>3</th>\n",
       "      <td>0.0</td>\n",
       "      <td>No</td>\n",
       "      <td>6.0</td>\n",
       "      <td>7.0</td>\n",
       "      <td>No</td>\n",
       "      <td>14.0</td>\n",
       "      <td>8.0</td>\n",
       "      <td>Extrovert</td>\n",
       "    </tr>\n",
       "    <tr>\n",
       "      <th>4</th>\n",
       "      <td>3.0</td>\n",
       "      <td>No</td>\n",
       "      <td>9.0</td>\n",
       "      <td>4.0</td>\n",
       "      <td>No</td>\n",
       "      <td>8.0</td>\n",
       "      <td>5.0</td>\n",
       "      <td>Extrovert</td>\n",
       "    </tr>\n",
       "  </tbody>\n",
       "</table>\n",
       "</div>"
      ],
      "text/plain": [
       "   Time_spent_Alone Stage_fear  Social_event_attendance  Going_outside  \\\n",
       "0               4.0         No                      4.0            6.0   \n",
       "1               9.0        Yes                      0.0            0.0   \n",
       "2               9.0        Yes                      1.0            2.0   \n",
       "3               0.0         No                      6.0            7.0   \n",
       "4               3.0         No                      9.0            4.0   \n",
       "\n",
       "  Drained_after_socializing  Friends_circle_size  Post_frequency Personality  \n",
       "0                        No                 13.0             5.0   Extrovert  \n",
       "1                       Yes                  0.0             3.0   Introvert  \n",
       "2                       Yes                  5.0             2.0   Introvert  \n",
       "3                        No                 14.0             8.0   Extrovert  \n",
       "4                        No                  8.0             5.0   Extrovert  "
      ]
     },
     "execution_count": 3,
     "metadata": {},
     "output_type": "execute_result"
    }
   ],
   "source": [
    "df.head()"
   ]
  },
  {
   "cell_type": "markdown",
   "id": "ab531d12",
   "metadata": {},
   "source": [
    "# **4. Exploratory Data Analysis (EDA)**"
   ]
  },
  {
   "cell_type": "code",
   "execution_count": 4,
   "id": "ac056aef",
   "metadata": {},
   "outputs": [
    {
     "name": "stdout",
     "output_type": "stream",
     "text": [
      "<class 'pandas.core.frame.DataFrame'>\n",
      "RangeIndex: 2900 entries, 0 to 2899\n",
      "Data columns (total 8 columns):\n",
      " #   Column                     Non-Null Count  Dtype  \n",
      "---  ------                     --------------  -----  \n",
      " 0   Time_spent_Alone           2837 non-null   float64\n",
      " 1   Stage_fear                 2827 non-null   object \n",
      " 2   Social_event_attendance    2838 non-null   float64\n",
      " 3   Going_outside              2834 non-null   float64\n",
      " 4   Drained_after_socializing  2848 non-null   object \n",
      " 5   Friends_circle_size        2823 non-null   float64\n",
      " 6   Post_frequency             2835 non-null   float64\n",
      " 7   Personality                2900 non-null   object \n",
      "dtypes: float64(5), object(3)\n",
      "memory usage: 181.4+ KB\n"
     ]
    }
   ],
   "source": [
    "df.info()"
   ]
  },
  {
   "cell_type": "code",
   "execution_count": 5,
   "id": "94872ed4",
   "metadata": {},
   "outputs": [
    {
     "data": {
      "application/vnd.microsoft.datawrangler.viewer.v0+json": {
       "columns": [
        {
         "name": "index",
         "rawType": "object",
         "type": "string"
        },
        {
         "name": "Time_spent_Alone",
         "rawType": "float64",
         "type": "float"
        },
        {
         "name": "Social_event_attendance",
         "rawType": "float64",
         "type": "float"
        },
        {
         "name": "Going_outside",
         "rawType": "float64",
         "type": "float"
        },
        {
         "name": "Friends_circle_size",
         "rawType": "float64",
         "type": "float"
        },
        {
         "name": "Post_frequency",
         "rawType": "float64",
         "type": "float"
        }
       ],
       "ref": "630f580b-28dc-40c5-aa83-bfe76a5961ea",
       "rows": [
        [
         "count",
         "2837.0",
         "2838.0",
         "2834.0",
         "2823.0",
         "2835.0"
        ],
        [
         "mean",
         "4.505816002819881",
         "3.963354474982382",
         "3.0",
         "6.268862911795962",
         "3.564726631393298"
        ],
        [
         "std",
         "3.479192331454265",
         "2.903827337496429",
         "2.247326528711436",
         "4.289692830709211",
         "2.9265817890397443"
        ],
        [
         "min",
         "0.0",
         "0.0",
         "0.0",
         "0.0",
         "0.0"
        ],
        [
         "25%",
         "2.0",
         "2.0",
         "1.0",
         "3.0",
         "1.0"
        ],
        [
         "50%",
         "4.0",
         "3.0",
         "3.0",
         "5.0",
         "3.0"
        ],
        [
         "75%",
         "8.0",
         "6.0",
         "5.0",
         "10.0",
         "6.0"
        ],
        [
         "max",
         "11.0",
         "10.0",
         "7.0",
         "15.0",
         "10.0"
        ]
       ],
       "shape": {
        "columns": 5,
        "rows": 8
       }
      },
      "text/html": [
       "<div>\n",
       "<style scoped>\n",
       "    .dataframe tbody tr th:only-of-type {\n",
       "        vertical-align: middle;\n",
       "    }\n",
       "\n",
       "    .dataframe tbody tr th {\n",
       "        vertical-align: top;\n",
       "    }\n",
       "\n",
       "    .dataframe thead th {\n",
       "        text-align: right;\n",
       "    }\n",
       "</style>\n",
       "<table border=\"1\" class=\"dataframe\">\n",
       "  <thead>\n",
       "    <tr style=\"text-align: right;\">\n",
       "      <th></th>\n",
       "      <th>Time_spent_Alone</th>\n",
       "      <th>Social_event_attendance</th>\n",
       "      <th>Going_outside</th>\n",
       "      <th>Friends_circle_size</th>\n",
       "      <th>Post_frequency</th>\n",
       "    </tr>\n",
       "  </thead>\n",
       "  <tbody>\n",
       "    <tr>\n",
       "      <th>count</th>\n",
       "      <td>2837.000000</td>\n",
       "      <td>2838.000000</td>\n",
       "      <td>2834.000000</td>\n",
       "      <td>2823.000000</td>\n",
       "      <td>2835.000000</td>\n",
       "    </tr>\n",
       "    <tr>\n",
       "      <th>mean</th>\n",
       "      <td>4.505816</td>\n",
       "      <td>3.963354</td>\n",
       "      <td>3.000000</td>\n",
       "      <td>6.268863</td>\n",
       "      <td>3.564727</td>\n",
       "    </tr>\n",
       "    <tr>\n",
       "      <th>std</th>\n",
       "      <td>3.479192</td>\n",
       "      <td>2.903827</td>\n",
       "      <td>2.247327</td>\n",
       "      <td>4.289693</td>\n",
       "      <td>2.926582</td>\n",
       "    </tr>\n",
       "    <tr>\n",
       "      <th>min</th>\n",
       "      <td>0.000000</td>\n",
       "      <td>0.000000</td>\n",
       "      <td>0.000000</td>\n",
       "      <td>0.000000</td>\n",
       "      <td>0.000000</td>\n",
       "    </tr>\n",
       "    <tr>\n",
       "      <th>25%</th>\n",
       "      <td>2.000000</td>\n",
       "      <td>2.000000</td>\n",
       "      <td>1.000000</td>\n",
       "      <td>3.000000</td>\n",
       "      <td>1.000000</td>\n",
       "    </tr>\n",
       "    <tr>\n",
       "      <th>50%</th>\n",
       "      <td>4.000000</td>\n",
       "      <td>3.000000</td>\n",
       "      <td>3.000000</td>\n",
       "      <td>5.000000</td>\n",
       "      <td>3.000000</td>\n",
       "    </tr>\n",
       "    <tr>\n",
       "      <th>75%</th>\n",
       "      <td>8.000000</td>\n",
       "      <td>6.000000</td>\n",
       "      <td>5.000000</td>\n",
       "      <td>10.000000</td>\n",
       "      <td>6.000000</td>\n",
       "    </tr>\n",
       "    <tr>\n",
       "      <th>max</th>\n",
       "      <td>11.000000</td>\n",
       "      <td>10.000000</td>\n",
       "      <td>7.000000</td>\n",
       "      <td>15.000000</td>\n",
       "      <td>10.000000</td>\n",
       "    </tr>\n",
       "  </tbody>\n",
       "</table>\n",
       "</div>"
      ],
      "text/plain": [
       "       Time_spent_Alone  Social_event_attendance  Going_outside  \\\n",
       "count       2837.000000              2838.000000    2834.000000   \n",
       "mean           4.505816                 3.963354       3.000000   \n",
       "std            3.479192                 2.903827       2.247327   \n",
       "min            0.000000                 0.000000       0.000000   \n",
       "25%            2.000000                 2.000000       1.000000   \n",
       "50%            4.000000                 3.000000       3.000000   \n",
       "75%            8.000000                 6.000000       5.000000   \n",
       "max           11.000000                10.000000       7.000000   \n",
       "\n",
       "       Friends_circle_size  Post_frequency  \n",
       "count          2823.000000     2835.000000  \n",
       "mean              6.268863        3.564727  \n",
       "std               4.289693        2.926582  \n",
       "min               0.000000        0.000000  \n",
       "25%               3.000000        1.000000  \n",
       "50%               5.000000        3.000000  \n",
       "75%              10.000000        6.000000  \n",
       "max              15.000000       10.000000  "
      ]
     },
     "execution_count": 5,
     "metadata": {},
     "output_type": "execute_result"
    }
   ],
   "source": [
    "df.describe()"
   ]
  },
  {
   "cell_type": "code",
   "execution_count": 6,
   "id": "6f3654d8",
   "metadata": {},
   "outputs": [
    {
     "data": {
      "application/vnd.microsoft.datawrangler.viewer.v0+json": {
       "columns": [
        {
         "name": "index",
         "rawType": "object",
         "type": "string"
        },
        {
         "name": "0",
         "rawType": "int64",
         "type": "integer"
        }
       ],
       "ref": "c120941e-2045-4d60-b93a-2bfb3e8059e0",
       "rows": [
        [
         "Time_spent_Alone",
         "63"
        ],
        [
         "Stage_fear",
         "73"
        ],
        [
         "Social_event_attendance",
         "62"
        ],
        [
         "Going_outside",
         "66"
        ],
        [
         "Drained_after_socializing",
         "52"
        ],
        [
         "Friends_circle_size",
         "77"
        ],
        [
         "Post_frequency",
         "65"
        ],
        [
         "Personality",
         "0"
        ]
       ],
       "shape": {
        "columns": 1,
        "rows": 8
       }
      },
      "text/plain": [
       "Time_spent_Alone             63\n",
       "Stage_fear                   73\n",
       "Social_event_attendance      62\n",
       "Going_outside                66\n",
       "Drained_after_socializing    52\n",
       "Friends_circle_size          77\n",
       "Post_frequency               65\n",
       "Personality                   0\n",
       "dtype: int64"
      ]
     },
     "execution_count": 6,
     "metadata": {},
     "output_type": "execute_result"
    }
   ],
   "source": [
    "df.isnull().sum()"
   ]
  },
  {
   "cell_type": "code",
   "execution_count": 7,
   "id": "bdc71d55",
   "metadata": {},
   "outputs": [
    {
     "data": {
      "image/png": "[encoded data removed]",
      "text/plain": [
       "<Figure size 1500x1000 with 5 Axes>"
      ]
     },
     "metadata": {},
     "output_type": "display_data"
    }
   ],
   "source": [
    "# Set style for plots\n",
    "sns.set_style(\"whitegrid\")\n",
    "\n",
    "# --- Univariate Analysis ---\n",
    "\n",
    "numerical_cols = ['Time_spent_Alone', 'Social_event_attendance', 'Going_outside', 'Friends_circle_size', 'Post_frequency']\n",
    "plt.figure(figsize=(15, 10))\n",
    "for i, col in enumerate(numerical_cols):\n",
    "    plt.subplot(2, 3, i + 1)\n",
    "    sns.histplot(df[col].dropna(), kde=True, bins=10) # Drop NA for plotting\n",
    "    plt.title(f'Distribution of {col}')\n",
    "    plt.xlabel(col)\n",
    "    plt.ylabel('Frequency')"
   ]
  },
  {
   "cell_type": "markdown",
   "id": "5b9fec16",
   "metadata": {},
   "source": [
    "- **Time\\_spent\\_Alone**: Distribusinya tampak agak bimodal atau condong ke nilai rendah dan tinggi, dengan puncak di sekitar 0–1 jam dan 8–10 jam. Hal ini menunjukkan adanya kelompok yang berbeda (kemungkinan introvert yang menghabiskan lebih banyak waktu sendiri dan ekstrovert yang lebih sedikit).\n",
    "\n",
    "- **Social\\_event\\_attendance**: Distribusinya condong ke arah kehadiran yang rendah, menunjukkan bahwa sebagian besar individu menghadiri sedikit acara sosial.\n",
    "\n",
    "- **Going\\_outside**: Mirip dengan *Social\\_event\\_attendance*, fitur ini condong ke nilai yang rendah, yang berarti sebagian besar orang jarang keluar rumah.\n",
    "\n",
    "- **Friends\\_circle\\_size**: Distribusinya menunjukkan rentang yang luas, dengan kecenderungan pada lingkaran pertemanan yang lebih kecil, namun juga terdapat sejumlah individu dengan lingkaran pertemanan yang besar.\n",
    "\n",
    "- **Post\\_frequency**: Distribusinya condong ke frekuensi posting yang rendah, menunjukkan bahwa sebagian besar individu jarang memposting di media sosial.\n"
   ]
  },
  {
   "cell_type": "code",
   "execution_count": 8,
   "id": "3e2fe32c",
   "metadata": {},
   "outputs": [
    {
     "data": {
      "image/png": "[encoded data removed]",
      "text/plain": [
       "<Figure size 1200x500 with 2 Axes>"
      ]
     },
     "metadata": {},
     "output_type": "display_data"
    }
   ],
   "source": [
    "import matplotlib.pyplot as plt\n",
    "import seaborn as sns\n",
    "\n",
    "# Bar plots for categorical features with hue based on Personality label\n",
    "categorical_cols = ['Stage_fear', 'Drained_after_socializing']\n",
    "plt.figure(figsize=(12, 5))\n",
    "\n",
    "for i, col in enumerate(categorical_cols):\n",
    "    plt.subplot(1, 2, i + 1)\n",
    "    sns.countplot(x=col, hue='Personality', data=df)\n",
    "    plt.title(f'Count of {col} by Personality')\n",
    "    plt.xlabel(col)\n",
    "    plt.ylabel('Count')\n",
    "    plt.legend(title='Personality')\n",
    "\n",
    "plt.tight_layout()\n",
    "plt.show()"
   ]
  },
  {
   "cell_type": "markdown",
   "id": "5b3ea50c",
   "metadata": {},
   "source": [
    "- Mayoritas ekstrovert tidak memiliki rasa takut tampil di depan umum (No), terlihat dari jumlah yang sangat besar di sisi kiri (bar biru).\n",
    "Sebaliknya, mayoritas introvert justru memiliki stage fear (Yes), mendominasi sisi kanan (bar oranye).Stage_fear adalah fitur yang sangat kuat untuk membedakan antara introvert dan ekstrovert. Ini bisa menjadi fitur prediktif yang signifikan dalam model klasifikasi kepribadian\n",
    "\n",
    "- Hampir semua ekstrovert merasa tidak lelah setelah bersosialisasi (No), konsisten dengan karakteristik mereka yang mendapatkan energi dari interaksi sosial. Hampir semua introvert merasa lelah setelah bersosialisasi (Yes), menunjukkan kecenderungan mereka yang membutuhkan waktu sendiri untuk recharge.Drained_after_socializing juga merupakan indikator yang sangat kuat untuk memisahkan dua kepribadian ini — sangat relevan untuk dipertimbangkan dalam fitur modeling."
   ]
  },
  {
   "cell_type": "code",
   "execution_count": 9,
   "id": "ad96d9e0",
   "metadata": {},
   "outputs": [
    {
     "data": {
      "image/png": "[encoded data removed]",
      "text/plain": [
       "<Figure size 600x400 with 1 Axes>"
      ]
     },
     "metadata": {},
     "output_type": "display_data"
    }
   ],
   "source": [
    "# Count plot for the target variable 'Personality'\n",
    "plt.figure(figsize=(6, 4))\n",
    "sns.countplot(x='Personality', data=df)\n",
    "plt.title('Distribution of Personality Types')\n",
    "plt.xlabel('Personality Type')\n",
    "plt.ylabel('Count')\n",
    "plt.show()"
   ]
  },
  {
   "cell_type": "markdown",
   "id": "0fe70262",
   "metadata": {},
   "source": [
    "Distrisbusi label seimbang sehingga kemungkinan untuk overfitting bisa minimal"
   ]
  },
  {
   "cell_type": "code",
   "execution_count": 10,
   "id": "3321e2cf",
   "metadata": {},
   "outputs": [
    {
     "data": {
      "image/png": "[encoded data removed]",
      "text/plain": [
       "<Figure size 1500x1000 with 5 Axes>"
      ]
     },
     "metadata": {},
     "output_type": "display_data"
    }
   ],
   "source": [
    "# Numerical features vs. Personality (using box plots)\n",
    "plt.figure(figsize=(15, 10))\n",
    "for i, col in enumerate(numerical_cols):\n",
    "    plt.subplot(2, 3, i + 1)\n",
    "    sns.boxplot(x='Personality', y=col, data=df)\n",
    "    plt.title(f'{col} by Personality')\n",
    "    plt.xlabel('Personality')\n",
    "    plt.ylabel(col)"
   ]
  },
  {
   "cell_type": "markdown",
   "id": "b0104550",
   "metadata": {},
   "source": [
    "- Introvert menghabiskan lebih banyak waktu sendiri secara signifikan, dengan median di sekitar 8 jam. Sebaliknya, Extrovert lebih sedikit menghabiskan waktu sendirian, dengan median sekitar 2–3 jam.\n",
    "- Extrovert jauh lebih sering menghadiri acara sosial (median sekitar 6–7 kali). Introvert cenderung jarang hadir di acara sosial, dengan mayoritas nilainya rendah (median ~2).\n",
    "- Extrovert lebih sering keluar rumah, terlihat dari median yang lebih tinggi (~5–6). Introvert cenderung lebih sering berada di rumah, dengan median yang lebih rendah (~1–2). Frekuensi keluar rumah dapat mencerminkan kebutuhan terhadap stimulasi sosial atau lingkungan luar.\n",
    "- Lingkaran pertemanan Extrovert jauh lebih besar, dengan median sekitar 9–10 teman. Introvert memiliki lingkaran pertemanan yang lebih kecil, dengan median sekitar 2.Ukuran lingkaran pertemanan mencerminkan perbedaan gaya sosial antara dua tipe kepribadian ini.\n",
    "- Extrovert lebih aktif memposting di media sosial (median sekitar 6). Introvert cenderung jarang memposting, dengan median sekitar 1.\n",
    "\n",
    "Keenam fitur ini sangat layak dimasukkan ke dalam model prediksi kepribadian dan bahkan bisa digunakan dalam sistem rekomendasi, kuis psikologi, atau segmentasi pengguna."
   ]
  },
  {
   "cell_type": "code",
   "execution_count": 11,
   "id": "08783245",
   "metadata": {},
   "outputs": [
    {
     "name": "stdout",
     "output_type": "stream",
     "text": [
      "                   Feature  U-statistic  p-value\n",
      "0         Time_spent_Alone    1849515.5      0.0\n",
      "1  Social_event_attendance     153945.0      0.0\n",
      "2            Going_outside     152970.5      0.0\n",
      "3      Friends_circle_size     176952.5      0.0\n",
      "4           Post_frequency     145562.5      0.0\n"
     ]
    }
   ],
   "source": [
    "from scipy.stats import mannwhitneyu\n",
    "import pandas as pd\n",
    "\n",
    "# Daftar fitur numerik yang ingin diuji\n",
    "numerical_features = [\n",
    "    'Time_spent_Alone',\n",
    "    'Social_event_attendance',\n",
    "    'Going_outside',\n",
    "    'Friends_circle_size',\n",
    "    'Post_frequency'\n",
    "]\n",
    "\n",
    "# Pisahkan data berdasarkan label kepribadian\n",
    "introverts = df[df['Personality'] == 'Introvert']\n",
    "extroverts = df[df['Personality'] == 'Extrovert']\n",
    "\n",
    "# Simpan hasil uji dalam list\n",
    "results = []\n",
    "\n",
    "# Lakukan Mann-Whitney U test untuk setiap fitur\n",
    "for feature in numerical_features:\n",
    "    # Drop missing values\n",
    "    introvert_data = introverts[feature].dropna()\n",
    "    extrovert_data = extroverts[feature].dropna()\n",
    "    # Uji statistik\n",
    "    stat, p = mannwhitneyu(\n",
    "        introvert_data,\n",
    "        extrovert_data,\n",
    "        alternative='two-sided'\n",
    "    )\n",
    "    results.append({\n",
    "        'Feature': feature,\n",
    "        'U-statistic': stat,\n",
    "        'p-value': p\n",
    "    })\n",
    "\n",
    "# Tampilkan hasil dalam DataFrame\n",
    "results_df = pd.DataFrame(results)\n",
    "print(results_df)"
   ]
  },
  {
   "cell_type": "markdown",
   "id": "f7f1c033",
   "metadata": {},
   "source": [
    "* Semua **p-value = 0.0** → menunjukkan bahwa **perbedaan antara kelompok introvert dan extrovert untuk semua fitur sangat signifikan secara statistik**.\n",
    "* Artinya, distribusi fitur-fitur ini **berbeda secara bermakna** antara kedua kelompok.\n",
    "\n",
    "Ini memperkuat temuan visual sebelumnya: fitur-fitur tersebut **sangat relevan untuk klasifikasi kepribadian** dan dapat digunakan sebagai **fitur utama dalam model prediktif**."
   ]
  },
  {
   "cell_type": "code",
   "execution_count": 12,
   "id": "7d0c6be0",
   "metadata": {},
   "outputs": [
    {
     "data": {
      "image/png": "[encoded data removed]",
      "text/plain": [
       "<Figure size 1000x800 with 2 Axes>"
      ]
     },
     "metadata": {},
     "output_type": "display_data"
    }
   ],
   "source": [
    "correlation_matrix = df.select_dtypes(include=np.number).corr() # Only numerical columns\n",
    "\n",
    "# Plotting the heatmap\n",
    "plt.figure(figsize=(10, 8))\n",
    "sns.heatmap(correlation_matrix, annot=True, cmap='coolwarm', fmt=\".2f\", linewidths=.5)\n",
    "plt.title('Correlation Matrix of Numerical Features')\n",
    "plt.show()"
   ]
  },
  {
   "cell_type": "markdown",
   "id": "ff0bea5e",
   "metadata": {},
   "source": [
    "**Multikolinearitas Tinggi**: Banyak fitur dengan korelasi > 0.70, artinya:\n",
    "  * Jika pakai model **linear** (Logistic Regression), ini bisa menyebabkan hasil yang tidak stabil → perlu cek **VIF** atau pakai **PCA**.\n",
    "  * Untuk **tree-based models** (Random Forest, XGBoost), ini tidak jadi masalah besar, tapi bisa membuat interpretasi antar fitur jadi redundant."
   ]
  },
  {
   "cell_type": "markdown",
   "id": "bee70451",
   "metadata": {},
   "source": [
    "# **5. Data Preprocessing**"
   ]
  },
  {
   "cell_type": "markdown",
   "id": "d7e765d8",
   "metadata": {},
   "source": [
    "### **FILLNAN**"
   ]
  },
  {
   "cell_type": "code",
   "execution_count": 13,
   "id": "6d36194d",
   "metadata": {},
   "outputs": [
    {
     "name": "stdout",
     "output_type": "stream",
     "text": [
      "Time_spent_Alone           0\n",
      "Social_event_attendance    0\n",
      "Going_outside              0\n",
      "Friends_circle_size        0\n",
      "Post_frequency             0\n",
      "dtype: int64\n",
      "Stage_fear                   0\n",
      "Drained_after_socializing    0\n",
      "dtype: int64\n"
     ]
    }
   ],
   "source": [
    "# Pilih fitur numerik dan kategorikal yang ingin diisi\n",
    "numerical_features = [\n",
    "    'Time_spent_Alone',\n",
    "    'Social_event_attendance',\n",
    "    'Going_outside',\n",
    "    'Friends_circle_size',\n",
    "    'Post_frequency'\n",
    "]\n",
    "\n",
    "categorical_features = ['Stage_fear', 'Drained_after_socializing']\n",
    "\n",
    "# Salin DataFrame asli\n",
    "df_filled = df.copy()\n",
    "\n",
    "# Isi nilai NaN untuk fitur numerik dengan nilai median\n",
    "for col in numerical_features:\n",
    "    median = df[col].median()\n",
    "    df_filled[col] = df[col].fillna(median)\n",
    "\n",
    "# Isi nilai NaN untuk fitur kategorikal dengan modus\n",
    "for col in categorical_features:\n",
    "    mode = df[col].mode()[0]\n",
    "    df_filled[col] = df[col].fillna(mode)\n",
    "\n",
    "# Cek hasil imputasi\n",
    "print(df_filled[numerical_features].isnull().sum())\n",
    "print(df_filled[categorical_features].isnull().sum())"
   ]
  },
  {
   "cell_type": "code",
   "execution_count": 14,
   "id": "61b74ac8",
   "metadata": {},
   "outputs": [
    {
     "data": {
      "application/vnd.microsoft.datawrangler.viewer.v0+json": {
       "columns": [
        {
         "name": "index",
         "rawType": "int64",
         "type": "integer"
        },
        {
         "name": "Stage_fear",
         "rawType": "object",
         "type": "string"
        },
        {
         "name": "Drained_after_socializing",
         "rawType": "object",
         "type": "string"
        }
       ],
       "ref": "5984296a-d385-4b50-8686-d32d83837315",
       "rows": [
        [
         "0",
         "No",
         "No"
        ],
        [
         "1",
         "Yes",
         "Yes"
        ],
        [
         "2",
         "Yes",
         "Yes"
        ],
        [
         "3",
         "No",
         "No"
        ],
        [
         "4",
         "No",
         "No"
        ],
        [
         "5",
         "No",
         "No"
        ],
        [
         "6",
         "No",
         "No"
        ],
        [
         "7",
         "No",
         "No"
        ],
        [
         "8",
         "Yes",
         "Yes"
        ],
        [
         "9",
         "No",
         "No"
        ],
        [
         "10",
         "No",
         "No"
        ],
        [
         "11",
         "Yes",
         "Yes"
        ],
        [
         "12",
         "No",
         "No"
        ],
        [
         "13",
         "No",
         "No"
        ],
        [
         "14",
         "Yes",
         "Yes"
        ],
        [
         "15",
         "No",
         "No"
        ],
        [
         "16",
         "Yes",
         "Yes"
        ],
        [
         "17",
         "No",
         "No"
        ],
        [
         "18",
         "Yes",
         "Yes"
        ],
        [
         "19",
         "No",
         "No"
        ],
        [
         "20",
         "Yes",
         "Yes"
        ],
        [
         "21",
         "No",
         "No"
        ],
        [
         "22",
         "No",
         "No"
        ],
        [
         "23",
         "Yes",
         "Yes"
        ],
        [
         "24",
         "No",
         "No"
        ],
        [
         "25",
         "No",
         "No"
        ],
        [
         "26",
         "No",
         "No"
        ],
        [
         "27",
         "No",
         "No"
        ],
        [
         "28",
         "No",
         "No"
        ],
        [
         "29",
         "No",
         "No"
        ],
        [
         "30",
         "No",
         "No"
        ],
        [
         "31",
         "No",
         "No"
        ],
        [
         "32",
         "Yes",
         "Yes"
        ],
        [
         "33",
         "Yes",
         "No"
        ],
        [
         "34",
         "Yes",
         "Yes"
        ],
        [
         "35",
         "No",
         "No"
        ],
        [
         "36",
         "No",
         "No"
        ],
        [
         "37",
         "No",
         "No"
        ],
        [
         "38",
         "Yes",
         "Yes"
        ],
        [
         "39",
         "Yes",
         "Yes"
        ],
        [
         "40",
         "No",
         "No"
        ],
        [
         "41",
         "No",
         "No"
        ],
        [
         "42",
         "Yes",
         "Yes"
        ],
        [
         "43",
         "Yes",
         "Yes"
        ],
        [
         "44",
         "Yes",
         "Yes"
        ],
        [
         "45",
         "No",
         "No"
        ],
        [
         "46",
         "No",
         "No"
        ],
        [
         "47",
         "Yes",
         "Yes"
        ],
        [
         "48",
         "Yes",
         "Yes"
        ],
        [
         "49",
         "No",
         "No"
        ]
       ],
       "shape": {
        "columns": 2,
        "rows": 2900
       }
      },
      "text/html": [
       "<div>\n",
       "<style scoped>\n",
       "    .dataframe tbody tr th:only-of-type {\n",
       "        vertical-align: middle;\n",
       "    }\n",
       "\n",
       "    .dataframe tbody tr th {\n",
       "        vertical-align: top;\n",
       "    }\n",
       "\n",
       "    .dataframe thead th {\n",
       "        text-align: right;\n",
       "    }\n",
       "</style>\n",
       "<table border=\"1\" class=\"dataframe\">\n",
       "  <thead>\n",
       "    <tr style=\"text-align: right;\">\n",
       "      <th></th>\n",
       "      <th>Stage_fear</th>\n",
       "      <th>Drained_after_socializing</th>\n",
       "    </tr>\n",
       "  </thead>\n",
       "  <tbody>\n",
       "    <tr>\n",
       "      <th>0</th>\n",
       "      <td>No</td>\n",
       "      <td>No</td>\n",
       "    </tr>\n",
       "    <tr>\n",
       "      <th>1</th>\n",
       "      <td>Yes</td>\n",
       "      <td>Yes</td>\n",
       "    </tr>\n",
       "    <tr>\n",
       "      <th>2</th>\n",
       "      <td>Yes</td>\n",
       "      <td>Yes</td>\n",
       "    </tr>\n",
       "    <tr>\n",
       "      <th>3</th>\n",
       "      <td>No</td>\n",
       "      <td>No</td>\n",
       "    </tr>\n",
       "    <tr>\n",
       "      <th>4</th>\n",
       "      <td>No</td>\n",
       "      <td>No</td>\n",
       "    </tr>\n",
       "    <tr>\n",
       "      <th>...</th>\n",
       "      <td>...</td>\n",
       "      <td>...</td>\n",
       "    </tr>\n",
       "    <tr>\n",
       "      <th>2895</th>\n",
       "      <td>No</td>\n",
       "      <td>No</td>\n",
       "    </tr>\n",
       "    <tr>\n",
       "      <th>2896</th>\n",
       "      <td>No</td>\n",
       "      <td>No</td>\n",
       "    </tr>\n",
       "    <tr>\n",
       "      <th>2897</th>\n",
       "      <td>Yes</td>\n",
       "      <td>Yes</td>\n",
       "    </tr>\n",
       "    <tr>\n",
       "      <th>2898</th>\n",
       "      <td>Yes</td>\n",
       "      <td>Yes</td>\n",
       "    </tr>\n",
       "    <tr>\n",
       "      <th>2899</th>\n",
       "      <td>No</td>\n",
       "      <td>No</td>\n",
       "    </tr>\n",
       "  </tbody>\n",
       "</table>\n",
       "<p>2900 rows × 2 columns</p>\n",
       "</div>"
      ],
      "text/plain": [
       "     Stage_fear Drained_after_socializing\n",
       "0            No                        No\n",
       "1           Yes                       Yes\n",
       "2           Yes                       Yes\n",
       "3            No                        No\n",
       "4            No                        No\n",
       "...         ...                       ...\n",
       "2895         No                        No\n",
       "2896         No                        No\n",
       "2897        Yes                       Yes\n",
       "2898        Yes                       Yes\n",
       "2899         No                        No\n",
       "\n",
       "[2900 rows x 2 columns]"
      ]
     },
     "execution_count": 14,
     "metadata": {},
     "output_type": "execute_result"
    }
   ],
   "source": [
    "df_filled[categorical_features]"
   ]
  },
  {
   "cell_type": "markdown",
   "id": "b64eeec2",
   "metadata": {},
   "source": [
    "### **FEATURE ENGINEERING**"
   ]
  },
  {
   "cell_type": "markdown",
   "id": "57c2f069",
   "metadata": {},
   "source": [
    "#### **PCA**"
   ]
  },
  {
   "cell_type": "code",
   "execution_count": 15,
   "id": "b1e81ff2",
   "metadata": {},
   "outputs": [
    {
     "name": "stdout",
     "output_type": "stream",
     "text": [
      "Explained Variance Ratio: [0.79209939 0.07961477]\n"
     ]
    }
   ],
   "source": [
    "from sklearn.decomposition import PCA\n",
    "from sklearn.preprocessing import StandardScaler\n",
    "import pandas as pd\n",
    "\n",
    "# Ambil fitur sosial untuk PCA\n",
    "pca_features = [\n",
    "    'Social_event_attendance',\n",
    "    'Going_outside',\n",
    "    'Friends_circle_size',\n",
    "    'Post_frequency'\n",
    "]\n",
    "\n",
    "# Standardisasi dulu\n",
    "scaler = StandardScaler()\n",
    "X_scaled = scaler.fit_transform(df_filled[pca_features])\n",
    "\n",
    "# PCA dengan 2 komponen\n",
    "pca = PCA(n_components=2)\n",
    "X_pca = pca.fit_transform(X_scaled)\n",
    "\n",
    "# Tambahkan ke dataframe asli\n",
    "df['Sociability_PC1'] = X_pca[:, 0]\n",
    "df['Sociability_PC2'] = X_pca[:, 1]\n",
    "\n",
    "# Lihat kontribusi varian\n",
    "print(\"Explained Variance Ratio:\", pca.explained_variance_ratio_)"
   ]
  },
  {
   "cell_type": "markdown",
   "id": "25139b22",
   "metadata": {},
   "source": [
    "- PC1 (komponen utama 1) menjelaskan 80.79% dari total variansi. Komponen pertama (PC1) sudah cukup kuat untuk merangkum seluruh informasi penting dari ke-5 fitur\n",
    "- PC2 (komponen utama 2) hanya menambah 7.33%.\n",
    "- Total: 88.13% variansi dijelaskan hanya dengan 2 komponen."
   ]
  },
  {
   "cell_type": "code",
   "execution_count": 16,
   "id": "c1b2a79f",
   "metadata": {},
   "outputs": [
    {
     "data": {
      "text/plain": [
       "['models/pca.pkl']"
      ]
     },
     "execution_count": 16,
     "metadata": {},
     "output_type": "execute_result"
    }
   ],
   "source": [
    "joblib.dump(pca, 'models/pca.pkl')"
   ]
  },
  {
   "cell_type": "markdown",
   "id": "ae8427e1",
   "metadata": {},
   "source": [
    "#### **LABEL ENCODER**"
   ]
  },
  {
   "cell_type": "code",
   "execution_count": 17,
   "id": "c358a8b6",
   "metadata": {},
   "outputs": [],
   "source": [
    "from sklearn.preprocessing import LabelEncoder\n",
    "import joblib\n",
    "\n",
    "df_encoded = df_filled.copy()\n",
    "encoders = {}\n",
    "\n",
    "for col in ['Stage_fear', 'Drained_after_socializing', 'Personality']:\n",
    "    le = LabelEncoder()\n",
    "    df_encoded[col] = le.fit_transform(df_encoded[col])\n",
    "    encoders[col] = le  # simpan encoder per kolom"
   ]
  },
  {
   "cell_type": "code",
   "execution_count": 18,
   "id": "7dfd6bfa",
   "metadata": {},
   "outputs": [],
   "source": [
    "df_encoded['Behavioral_Index'] = X_pca[:, 0]"
   ]
  },
  {
   "cell_type": "code",
   "execution_count": 19,
   "id": "2e3ff510",
   "metadata": {},
   "outputs": [
    {
     "data": {
      "application/vnd.microsoft.datawrangler.viewer.v0+json": {
       "columns": [
        {
         "name": "index",
         "rawType": "int64",
         "type": "integer"
        },
        {
         "name": "Time_spent_Alone",
         "rawType": "float64",
         "type": "float"
        },
        {
         "name": "Stage_fear",
         "rawType": "int64",
         "type": "integer"
        },
        {
         "name": "Social_event_attendance",
         "rawType": "float64",
         "type": "float"
        },
        {
         "name": "Going_outside",
         "rawType": "float64",
         "type": "float"
        },
        {
         "name": "Drained_after_socializing",
         "rawType": "int64",
         "type": "integer"
        },
        {
         "name": "Friends_circle_size",
         "rawType": "float64",
         "type": "float"
        },
        {
         "name": "Post_frequency",
         "rawType": "float64",
         "type": "float"
        },
        {
         "name": "Personality",
         "rawType": "int64",
         "type": "integer"
        },
        {
         "name": "Behavioral_Index",
         "rawType": "float64",
         "type": "float"
        }
       ],
       "ref": "5811ce8e-3da5-4e08-92f0-c07726c39988",
       "rows": [
        [
         "0",
         "4.0",
         "0",
         "4.0",
         "6.0",
         "0",
         "13.0",
         "5.0",
         "0",
         "1.7298686819675788"
        ],
        [
         "1",
         "9.0",
         "1",
         "0.0",
         "0.0",
         "1",
         "0.0",
         "3.0",
         "1",
         "-2.1906547660464737"
        ],
        [
         "2",
         "9.0",
         "1",
         "1.0",
         "2.0",
         "1",
         "5.0",
         "2.0",
         "1",
         "-1.152601840658935"
        ],
        [
         "3",
         "0.0",
         "0",
         "6.0",
         "7.0",
         "0",
         "14.0",
         "8.0",
         "0",
         "2.9411611808051137"
        ],
        [
         "4",
         "3.0",
         "0",
         "9.0",
         "4.0",
         "0",
         "8.0",
         "5.0",
         "0",
         "1.5646300363117265"
        ]
       ],
       "shape": {
        "columns": 9,
        "rows": 5
       }
      },
      "text/html": [
       "<div>\n",
       "<style scoped>\n",
       "    .dataframe tbody tr th:only-of-type {\n",
       "        vertical-align: middle;\n",
       "    }\n",
       "\n",
       "    .dataframe tbody tr th {\n",
       "        vertical-align: top;\n",
       "    }\n",
       "\n",
       "    .dataframe thead th {\n",
       "        text-align: right;\n",
       "    }\n",
       "</style>\n",
       "<table border=\"1\" class=\"dataframe\">\n",
       "  <thead>\n",
       "    <tr style=\"text-align: right;\">\n",
       "      <th></th>\n",
       "      <th>Time_spent_Alone</th>\n",
       "      <th>Stage_fear</th>\n",
       "      <th>Social_event_attendance</th>\n",
       "      <th>Going_outside</th>\n",
       "      <th>Drained_after_socializing</th>\n",
       "      <th>Friends_circle_size</th>\n",
       "      <th>Post_frequency</th>\n",
       "      <th>Personality</th>\n",
       "      <th>Behavioral_Index</th>\n",
       "    </tr>\n",
       "  </thead>\n",
       "  <tbody>\n",
       "    <tr>\n",
       "      <th>0</th>\n",
       "      <td>4.0</td>\n",
       "      <td>0</td>\n",
       "      <td>4.0</td>\n",
       "      <td>6.0</td>\n",
       "      <td>0</td>\n",
       "      <td>13.0</td>\n",
       "      <td>5.0</td>\n",
       "      <td>0</td>\n",
       "      <td>1.729869</td>\n",
       "    </tr>\n",
       "    <tr>\n",
       "      <th>1</th>\n",
       "      <td>9.0</td>\n",
       "      <td>1</td>\n",
       "      <td>0.0</td>\n",
       "      <td>0.0</td>\n",
       "      <td>1</td>\n",
       "      <td>0.0</td>\n",
       "      <td>3.0</td>\n",
       "      <td>1</td>\n",
       "      <td>-2.190655</td>\n",
       "    </tr>\n",
       "    <tr>\n",
       "      <th>2</th>\n",
       "      <td>9.0</td>\n",
       "      <td>1</td>\n",
       "      <td>1.0</td>\n",
       "      <td>2.0</td>\n",
       "      <td>1</td>\n",
       "      <td>5.0</td>\n",
       "      <td>2.0</td>\n",
       "      <td>1</td>\n",
       "      <td>-1.152602</td>\n",
       "    </tr>\n",
       "    <tr>\n",
       "      <th>3</th>\n",
       "      <td>0.0</td>\n",
       "      <td>0</td>\n",
       "      <td>6.0</td>\n",
       "      <td>7.0</td>\n",
       "      <td>0</td>\n",
       "      <td>14.0</td>\n",
       "      <td>8.0</td>\n",
       "      <td>0</td>\n",
       "      <td>2.941161</td>\n",
       "    </tr>\n",
       "    <tr>\n",
       "      <th>4</th>\n",
       "      <td>3.0</td>\n",
       "      <td>0</td>\n",
       "      <td>9.0</td>\n",
       "      <td>4.0</td>\n",
       "      <td>0</td>\n",
       "      <td>8.0</td>\n",
       "      <td>5.0</td>\n",
       "      <td>0</td>\n",
       "      <td>1.564630</td>\n",
       "    </tr>\n",
       "  </tbody>\n",
       "</table>\n",
       "</div>"
      ],
      "text/plain": [
       "   Time_spent_Alone  Stage_fear  Social_event_attendance  Going_outside  \\\n",
       "0               4.0           0                      4.0            6.0   \n",
       "1               9.0           1                      0.0            0.0   \n",
       "2               9.0           1                      1.0            2.0   \n",
       "3               0.0           0                      6.0            7.0   \n",
       "4               3.0           0                      9.0            4.0   \n",
       "\n",
       "   Drained_after_socializing  Friends_circle_size  Post_frequency  \\\n",
       "0                          0                 13.0             5.0   \n",
       "1                          1                  0.0             3.0   \n",
       "2                          1                  5.0             2.0   \n",
       "3                          0                 14.0             8.0   \n",
       "4                          0                  8.0             5.0   \n",
       "\n",
       "   Personality  Behavioral_Index  \n",
       "0            0          1.729869  \n",
       "1            1         -2.190655  \n",
       "2            1         -1.152602  \n",
       "3            0          2.941161  \n",
       "4            0          1.564630  "
      ]
     },
     "execution_count": 19,
     "metadata": {},
     "output_type": "execute_result"
    }
   ],
   "source": [
    "df_encoded.head()"
   ]
  },
  {
   "cell_type": "code",
   "execution_count": 20,
   "id": "bfeba0cc",
   "metadata": {},
   "outputs": [
    {
     "data": {
      "text/plain": [
       "['models/labelencoder.pkl']"
      ]
     },
     "execution_count": 20,
     "metadata": {},
     "output_type": "execute_result"
    }
   ],
   "source": [
    "joblib.dump(encoders, 'models/labelencoder.pkl')"
   ]
  },
  {
   "cell_type": "code",
   "execution_count": 21,
   "id": "211baace",
   "metadata": {},
   "outputs": [
    {
     "data": {
      "application/vnd.microsoft.datawrangler.viewer.v0+json": {
       "columns": [
        {
         "name": "index",
         "rawType": "int64",
         "type": "integer"
        },
        {
         "name": "Behavioral_Index",
         "rawType": "float64",
         "type": "float"
        },
        {
         "name": "Stage_fear",
         "rawType": "int64",
         "type": "integer"
        },
        {
         "name": "Drained_after_socializing",
         "rawType": "int64",
         "type": "integer"
        },
        {
         "name": "Personality",
         "rawType": "int64",
         "type": "integer"
        }
       ],
       "ref": "4552f052-85c3-4d32-a8a8-f209744b232f",
       "rows": [
        [
         "0",
         "1.7298686819675788",
         "0",
         "0",
         "0"
        ],
        [
         "1",
         "-2.1906547660464737",
         "1",
         "1",
         "1"
        ],
        [
         "2",
         "-1.152601840658935",
         "1",
         "1",
         "1"
        ],
        [
         "3",
         "2.9411611808051137",
         "0",
         "0",
         "0"
        ],
        [
         "4",
         "1.5646300363117265",
         "0",
         "0",
         "0"
        ],
        [
         "5",
         "1.3846187272330066",
         "0",
         "0",
         "0"
        ],
        [
         "6",
         "1.5662704130657075",
         "0",
         "0",
         "0"
        ],
        [
         "7",
         "1.7928273077270678",
         "0",
         "0",
         "0"
        ],
        [
         "8",
         "-1.3324806128516868",
         "1",
         "1",
         "1"
        ],
        [
         "9",
         "2.9456162813193587",
         "0",
         "0",
         "0"
        ],
        [
         "10",
         "2.833562419988902",
         "0",
         "0",
         "0"
        ],
        [
         "11",
         "-1.4938947835250476",
         "1",
         "1",
         "1"
        ],
        [
         "12",
         "3.2869092241854716",
         "0",
         "0",
         "0"
        ],
        [
         "13",
         "1.6198207491509207",
         "0",
         "0",
         "0"
        ],
        [
         "14",
         "-1.5516672052506566",
         "1",
         "1",
         "1"
        ],
        [
         "15",
         "1.2118451835307085",
         "0",
         "0",
         "0"
        ],
        [
         "16",
         "-2.7092768311170103",
         "1",
         "1",
         "1"
        ],
        [
         "17",
         "1.382845813593057",
         "0",
         "0",
         "0"
        ],
        [
         "18",
         "-1.376110996686182",
         "1",
         "1",
         "1"
        ],
        [
         "19",
         "1.908605166052135",
         "0",
         "0",
         "0"
        ],
        [
         "20",
         "-1.5533075820046378",
         "1",
         "1",
         "1"
        ],
        [
         "21",
         "2.143939724856017",
         "0",
         "0",
         "0"
        ],
        [
         "22",
         "3.114035202495293",
         "0",
         "0",
         "0"
        ],
        [
         "23",
         "-1.78864214080852",
         "1",
         "1",
         "1"
        ],
        [
         "24",
         "3.0601193146502625",
         "0",
         "0",
         "0"
        ],
        [
         "25",
         "2.430274969756785",
         "0",
         "0",
         "0"
        ],
        [
         "26",
         "2.4301424328708165",
         "0",
         "0",
         "0"
        ],
        [
         "27",
         "1.4919844731753686",
         "0",
         "0",
         "0"
        ],
        [
         "28",
         "2.370729634391226",
         "0",
         "0",
         "0"
        ],
        [
         "29",
         "2.6072385402013913",
         "0",
         "0",
         "0"
        ],
        [
         "30",
         "2.719424938417816",
         "0",
         "0",
         "0"
        ],
        [
         "31",
         "2.475312715471412",
         "0",
         "0",
         "0"
        ],
        [
         "32",
         "-1.3296658890914228",
         "1",
         "1",
         "1"
        ],
        [
         "33",
         "-1.2702530906118326",
         "1",
         "0",
         "1"
        ],
        [
         "34",
         "-1.6128529173701962",
         "1",
         "1",
         "1"
        ],
        [
         "35",
         "2.6581066894123087",
         "0",
         "0",
         "0"
        ],
        [
         "36",
         "1.3333529673641848",
         "0",
         "0",
         "0"
        ],
        [
         "37",
         "1.274072705770563",
         "0",
         "0",
         "0"
        ],
        [
         "38",
         "-1.8467801142939464",
         "1",
         "1",
         "1"
        ],
        [
         "39",
         "-1.9005955241510957",
         "1",
         "1",
         "1"
        ],
        [
         "40",
         "1.6761858089963977",
         "0",
         "0",
         "0"
        ],
        [
         "41",
         "1.4371272531979047",
         "0",
         "0",
         "0"
        ],
        [
         "42",
         "-1.2730678143720966",
         "1",
         "1",
         "1"
        ],
        [
         "43",
         "-1.4996247090334567",
         "1",
         "1",
         "1"
        ],
        [
         "44",
         "-1.0334106919399373",
         "1",
         "1",
         "1"
        ],
        [
         "45",
         "2.4783604541055246",
         "0",
         "0",
         "0"
        ],
        [
         "46",
         "2.6611544280464217",
         "0",
         "0",
         "0"
        ],
        [
         "47",
         "-1.8467801142939464",
         "1",
         "1",
         "1"
        ],
        [
         "48",
         "-0.9840503825970333",
         "1",
         "1",
         "1"
        ],
        [
         "49",
         "2.187803123564361",
         "0",
         "0",
         "0"
        ]
       ],
       "shape": {
        "columns": 4,
        "rows": 2900
       }
      },
      "text/html": [
       "<div>\n",
       "<style scoped>\n",
       "    .dataframe tbody tr th:only-of-type {\n",
       "        vertical-align: middle;\n",
       "    }\n",
       "\n",
       "    .dataframe tbody tr th {\n",
       "        vertical-align: top;\n",
       "    }\n",
       "\n",
       "    .dataframe thead th {\n",
       "        text-align: right;\n",
       "    }\n",
       "</style>\n",
       "<table border=\"1\" class=\"dataframe\">\n",
       "  <thead>\n",
       "    <tr style=\"text-align: right;\">\n",
       "      <th></th>\n",
       "      <th>Behavioral_Index</th>\n",
       "      <th>Stage_fear</th>\n",
       "      <th>Drained_after_socializing</th>\n",
       "      <th>Personality</th>\n",
       "    </tr>\n",
       "  </thead>\n",
       "  <tbody>\n",
       "    <tr>\n",
       "      <th>0</th>\n",
       "      <td>1.729869</td>\n",
       "      <td>0</td>\n",
       "      <td>0</td>\n",
       "      <td>0</td>\n",
       "    </tr>\n",
       "    <tr>\n",
       "      <th>1</th>\n",
       "      <td>-2.190655</td>\n",
       "      <td>1</td>\n",
       "      <td>1</td>\n",
       "      <td>1</td>\n",
       "    </tr>\n",
       "    <tr>\n",
       "      <th>2</th>\n",
       "      <td>-1.152602</td>\n",
       "      <td>1</td>\n",
       "      <td>1</td>\n",
       "      <td>1</td>\n",
       "    </tr>\n",
       "    <tr>\n",
       "      <th>3</th>\n",
       "      <td>2.941161</td>\n",
       "      <td>0</td>\n",
       "      <td>0</td>\n",
       "      <td>0</td>\n",
       "    </tr>\n",
       "    <tr>\n",
       "      <th>4</th>\n",
       "      <td>1.564630</td>\n",
       "      <td>0</td>\n",
       "      <td>0</td>\n",
       "      <td>0</td>\n",
       "    </tr>\n",
       "    <tr>\n",
       "      <th>...</th>\n",
       "      <td>...</td>\n",
       "      <td>...</td>\n",
       "      <td>...</td>\n",
       "      <td>...</td>\n",
       "    </tr>\n",
       "    <tr>\n",
       "      <th>2895</th>\n",
       "      <td>1.612583</td>\n",
       "      <td>0</td>\n",
       "      <td>0</td>\n",
       "      <td>0</td>\n",
       "    </tr>\n",
       "    <tr>\n",
       "      <th>2896</th>\n",
       "      <td>2.550741</td>\n",
       "      <td>0</td>\n",
       "      <td>0</td>\n",
       "      <td>0</td>\n",
       "    </tr>\n",
       "    <tr>\n",
       "      <th>2897</th>\n",
       "      <td>-1.842458</td>\n",
       "      <td>1</td>\n",
       "      <td>1</td>\n",
       "      <td>1</td>\n",
       "    </tr>\n",
       "    <tr>\n",
       "      <th>2898</th>\n",
       "      <td>-1.618816</td>\n",
       "      <td>1</td>\n",
       "      <td>1</td>\n",
       "      <td>1</td>\n",
       "    </tr>\n",
       "    <tr>\n",
       "      <th>2899</th>\n",
       "      <td>1.956924</td>\n",
       "      <td>0</td>\n",
       "      <td>0</td>\n",
       "      <td>0</td>\n",
       "    </tr>\n",
       "  </tbody>\n",
       "</table>\n",
       "<p>2900 rows × 4 columns</p>\n",
       "</div>"
      ],
      "text/plain": [
       "      Behavioral_Index  Stage_fear  Drained_after_socializing  Personality\n",
       "0             1.729869           0                          0            0\n",
       "1            -2.190655           1                          1            1\n",
       "2            -1.152602           1                          1            1\n",
       "3             2.941161           0                          0            0\n",
       "4             1.564630           0                          0            0\n",
       "...                ...         ...                        ...          ...\n",
       "2895          1.612583           0                          0            0\n",
       "2896          2.550741           0                          0            0\n",
       "2897         -1.842458           1                          1            1\n",
       "2898         -1.618816           1                          1            1\n",
       "2899          1.956924           0                          0            0\n",
       "\n",
       "[2900 rows x 4 columns]"
      ]
     },
     "execution_count": 21,
     "metadata": {},
     "output_type": "execute_result"
    }
   ],
   "source": [
    "train_df = df_encoded[['Behavioral_Index','Stage_fear', 'Drained_after_socializing', 'Personality']]\n",
    "train_df"
   ]
  },
  {
   "cell_type": "code",
   "execution_count": 23,
   "id": "97fd63ee",
   "metadata": {},
   "outputs": [],
   "source": [
    "train_df.to_csv('../personality_preprocessing/personality_preprocessing.csv', index=False)"
   ]
  },
  {
   "cell_type": "code",
   "execution_count": null,
   "id": "1797ae07",
   "metadata": {},
   "outputs": [],
   "source": [
    "!pip freeze > requirements.txt"
   ]
  }
 ],
 "metadata": {
  "kernelspec": {
   "display_name": "credit_scoring",
   "language": "python",
   "name": "python3"
  },
  "language_info": {
   "codemirror_mode": {
    "name": "ipython",
    "version": 3
   },
   "file_extension": ".py",
   "mimetype": "text/x-python",
   "name": "python",
   "nbconvert_exporter": "python",
   "pygments_lexer": "ipython3",
   "version": "3.12.7"
  }
 },
 "nbformat": 4,
 "nbformat_minor": 5
}
